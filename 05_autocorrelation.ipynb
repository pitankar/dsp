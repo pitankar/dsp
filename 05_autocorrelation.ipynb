{
 "cells": [
  {
   "cell_type": "markdown",
   "metadata": {},
   "source": [
    "# Autocorrelation"
   ]
  },
  {
   "cell_type": "code",
   "execution_count": 1,
   "metadata": {},
   "outputs": [],
   "source": [
    "import thinkdsp"
   ]
  },
  {
   "cell_type": "code",
   "execution_count": 2,
   "metadata": {},
   "outputs": [],
   "source": [
    "def make_sine(offset):\n",
    "    signal = thinkdsp.SinSignal(freq=440, offset=offset)\n",
    "    wave = signal.make_wave(duration=0.5, framerate=1000)\n",
    "    return wave\n",
    "\n",
    "wave1 = make_sine(offset=0)\n",
    "wave2 = make_sine(offset=1)"
   ]
  },
  {
   "cell_type": "code",
   "execution_count": 5,
   "metadata": {},
   "outputs": [],
   "source": [
    "import numpy as np\n",
    "\n",
    "corr_matrix = np.corrcoef(wave1.ys, wave2.ys)"
   ]
  },
  {
   "cell_type": "code",
   "execution_count": 6,
   "metadata": {},
   "outputs": [
    {
     "name": "stdout",
     "output_type": "stream",
     "text": [
      "[[1.         0.54030231]\n",
      " [0.54030231 1.        ]]\n"
     ]
    }
   ],
   "source": [
    "print (corr_matrix)"
   ]
  },
  {
   "cell_type": "markdown",
   "metadata": {},
   "source": [
    "# Serial Correlation"
   ]
  },
  {
   "cell_type": "code",
   "execution_count": 9,
   "metadata": {},
   "outputs": [
    {
     "name": "stderr",
     "output_type": "stream",
     "text": [
      "/usr/lib/python3/dist-packages/ipykernel_launcher.py:6: DeprecationWarning: bias and ddof have no effect and are deprecated\n",
      "  \n"
     ]
    },
    {
     "data": {
      "text/plain": [
       "-0.008873185639544713"
      ]
     },
     "execution_count": 9,
     "metadata": {},
     "output_type": "execute_result"
    }
   ],
   "source": [
    "def serial_corr(wave, lag=1):\n",
    "    n = len(wave)\n",
    "    y1 = wave.ys[lag:]\n",
    "    y2 = wave.ys[:n-lag]\n",
    "    \n",
    "    corr = np.corrcoef(y1, y2, ddof=0)[0, 1]\n",
    "    \n",
    "    return corr\n",
    "\n",
    "signal = thinkdsp.UncorrelatedGaussianNoise()\n",
    "wave = signal.make_wave(duration=0.5, framerate=11025)\n",
    "serial_corr(wave)"
   ]
  },
  {
   "cell_type": "code",
   "execution_count": 10,
   "metadata": {},
   "outputs": [
    {
     "name": "stderr",
     "output_type": "stream",
     "text": [
      "/usr/lib/python3/dist-packages/ipykernel_launcher.py:6: DeprecationWarning: bias and ddof have no effect and are deprecated\n",
      "  \n"
     ]
    },
    {
     "data": {
      "text/plain": [
       "0.9989900346096922"
      ]
     },
     "execution_count": 10,
     "metadata": {},
     "output_type": "execute_result"
    }
   ],
   "source": [
    "signal = thinkdsp.BrownianNoise()\n",
    "wave = signal.make_wave(duration=0.5, framerate=11025)\n",
    "serial_corr(wave)"
   ]
  },
  {
   "cell_type": "code",
   "execution_count": 11,
   "metadata": {},
   "outputs": [
    {
     "name": "stderr",
     "output_type": "stream",
     "text": [
      "/usr/lib/python3/dist-packages/ipykernel_launcher.py:6: DeprecationWarning: bias and ddof have no effect and are deprecated\n",
      "  \n"
     ]
    },
    {
     "data": {
      "text/plain": [
       "0.7835680660040918"
      ]
     },
     "execution_count": 11,
     "metadata": {},
     "output_type": "execute_result"
    }
   ],
   "source": [
    "signal = thinkdsp.PinkNoise(beta=1)\n",
    "wave = signal.make_wave(duration=0.5, framerate=11025)\n",
    "serial_corr(wave)"
   ]
  },
  {
   "cell_type": "code",
   "execution_count": 12,
   "metadata": {},
   "outputs": [
    {
     "name": "stderr",
     "output_type": "stream",
     "text": [
      "/usr/lib/python3/dist-packages/ipykernel_launcher.py:6: DeprecationWarning: bias and ddof have no effect and are deprecated\n",
      "  \n"
     ]
    },
    {
     "data": {
      "text/plain": [
       "0.999195625648409"
      ]
     },
     "execution_count": 12,
     "metadata": {},
     "output_type": "execute_result"
    }
   ],
   "source": [
    "signal = thinkdsp.PinkNoise(beta=2)\n",
    "wave = signal.make_wave(duration=0.5, framerate=11025)\n",
    "serial_corr(wave)"
   ]
  },
  {
   "cell_type": "code",
   "execution_count": 13,
   "metadata": {},
   "outputs": [
    {
     "name": "stderr",
     "output_type": "stream",
     "text": [
      "/usr/lib/python3/dist-packages/ipykernel_launcher.py:6: DeprecationWarning: bias and ddof have no effect and are deprecated\n",
      "  \n"
     ]
    },
    {
     "data": {
      "text/plain": [
       "0.970551897199557"
      ]
     },
     "execution_count": 13,
     "metadata": {},
     "output_type": "execute_result"
    }
   ],
   "source": [
    "signal = thinkdsp.PinkNoise(beta=1.5)\n",
    "wave = signal.make_wave(duration=0.5, framerate=11025)\n",
    "serial_corr(wave)"
   ]
  },
  {
   "cell_type": "markdown",
   "metadata": {},
   "source": [
    "# Autocorrelation"
   ]
  },
  {
   "cell_type": "code",
   "execution_count": 14,
   "metadata": {},
   "outputs": [],
   "source": [
    "def autocorr(wave):\n",
    "    lags = range(len(wave.ys)//2)\n",
    "    corrs= [serial_corr(wave, lag) for lag in lags]\n",
    "    return lags, corrs"
   ]
  }
 ],
 "metadata": {
  "kernelspec": {
   "display_name": "Python 3",
   "language": "python",
   "name": "python3"
  },
  "language_info": {
   "codemirror_mode": {
    "name": "ipython",
    "version": 3
   },
   "file_extension": ".py",
   "mimetype": "text/x-python",
   "name": "python",
   "nbconvert_exporter": "python",
   "pygments_lexer": "ipython3",
   "version": "3.7.3"
  }
 },
 "nbformat": 4,
 "nbformat_minor": 2
}
